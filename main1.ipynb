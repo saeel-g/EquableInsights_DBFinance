{
 "cells": [
  {
   "cell_type": "code",
   "execution_count": null,
   "metadata": {},
   "outputs": [],
   "source": [
    "import pandas as pd\n",
    "import seaborn as sb\n",
    "import numpy as np\n",
    "import calendar"
   ]
  },
  {
   "cell_type": "code",
   "execution_count": null,
   "metadata": {},
   "outputs": [],
   "source": [
    "df=pd.read_csv('DATA.csv', encoding='ISO-8859-1')"
   ]
  },
  {
   "cell_type": "code",
   "execution_count": null,
   "metadata": {},
   "outputs": [
    {
     "name": "stdout",
     "output_type": "stream",
     "text": [
      "<class 'pandas.core.frame.DataFrame'>\n",
      "RangeIndex: 5684 entries, 0 to 5683\n",
      "Data columns (total 90 columns):\n",
      " #   Column                             Non-Null Count  Dtype  \n",
      "---  ------                             --------------  -----  \n",
      " 0   EquableID                          5684 non-null   int64  \n",
      " 1   System_Name                        5684 non-null   object \n",
      " 2   Plan_FullName                      5684 non-null   object \n",
      " 3   Plan_InternalName                  5684 non-null   object \n",
      " 4   Plan_Shorthand                     5684 non-null   object \n",
      " 5   Investment_Fund                    5683 non-null   object \n",
      " 6   SSA                                5661 non-null   object \n",
      " 7   SSANotes                           597 non-null    object \n",
      " 8   Job_Covers                         5684 non-null   object \n",
      " 9   StateAbbrev                        5684 non-null   object \n",
      " 10  StateName                          5684 non-null   object \n",
      " 11  GovtName                           5684 non-null   object \n",
      " 12  ActRptDate                         5684 non-null   object \n",
      " 13  DateFYE                            5684 non-null   object \n",
      " 14  Month                              5662 non-null   float64\n",
      " 15  Year                               5684 non-null   int64  \n",
      " 16  ValReport                          5500 non-null   float64\n",
      " 17  ACFR                               5499 non-null   float64\n",
      " 18  DocumentNotes                      876 non-null    object \n",
      " 19  MiscellaneousNotes                 605 non-null    object \n",
      " 20  Mem_NC                             4862 non-null   object \n",
      " 21  Mem_UAAL                           4865 non-null   object \n",
      " 22  Mem_Tot                            4865 non-null   object \n",
      " 23  Emp_NC                             4853 non-null   object \n",
      " 24  Emp_UAAL                           4853 non-null   object \n",
      " 25  Emp_Tot                            4866 non-null   object \n",
      " 26  NC_Tot                             4858 non-null   object \n",
      " 27   UAAL_Tot                          4856 non-null   object \n",
      " 28   AVA                               5150 non-null   object \n",
      " 29  AAL                                5148 non-null   object \n",
      " 30   UAAL                              5150 non-null   object \n",
      " 31   FundedRatio_Actuarial             5155 non-null   object \n",
      " 32   MVA                               5078 non-null   object \n",
      " 33   CoveredPayroll_SFP                5098 non-null   object \n",
      " 34   CoveredPayroll_SEC                3303 non-null   object \n",
      " 35   ActiveMemberSalaries              4154 non-null   object \n",
      " 36   TPL                               4420 non-null   object \n",
      " 37   FNP                               4430 non-null   object \n",
      " 38   NPL                               4414 non-null   object \n",
      " 39  ARR                                5145 non-null   object \n",
      " 40  ReturnAsOf                         587 non-null    object \n",
      " 41  Source                             415 non-null    object \n",
      " 42  ReturnClassification               582 non-null    object \n",
      " 43  RollForward                        230 non-null    float64\n",
      " 44  Returns_1Year                      5297 non-null   object \n",
      " 45  Returns_3Year                      4344 non-null   object \n",
      " 46  Returns_5Year                      4483 non-null   object \n",
      " 47  Returns_10Year                     3353 non-null   object \n",
      " 48  EquityAllocationActual             4894 non-null   object \n",
      " 49  FixedIncomeAllocationActual        4894 non-null   object \n",
      " 50  RealEstateAllocationActual         4893 non-null   object \n",
      " 51  AltMiscAllocationActual            4893 non-null   object \n",
      " 52  PrivateEquityAllocationActual      4894 non-null   object \n",
      " 53  HedgeFundAllocationActual          4894 non-null   object \n",
      " 54  COMDAllocationActual               4890 non-null   object \n",
      " 55  CashAllocationActual               4894 non-null   object \n",
      " 56   OtherAllocationActual             4889 non-null   object \n",
      " 57  AssetAllocationTotal               5102 non-null   object \n",
      " 58  DiscountRate                       5021 non-null   object \n",
      " 59   AmortPeriodR                      4500 non-null   object \n",
      " 60   ADEC                              5151 non-null   object \n",
      " 61  ADECasPercentofCoveredPayroll      5126 non-null   object \n",
      " 62  PaidContributionasPercentofCover   5132 non-null   object \n",
      " 63  RequiredEmployerContribution       5155 non-null   object \n",
      " 64   PaidEmployerContribution          5162 non-null   object \n",
      " 65   PercentReqContPaidContPaidAsPer   5114 non-null   object \n",
      " 66  PayrollGrowthAssumption            4880 non-null   object \n",
      " 67  InflationAssumption_GASB           4762 non-null   object \n",
      " 68  TotalBenefits                      5130 non-null   object \n",
      " 69  RetirementBenefits                 4954 non-null   object \n",
      " 70  ActiveMemberTotal                  5119 non-null   object \n",
      " 71  InactiveVestedMembers              4350 non-null   object \n",
      " 72  InactiveNonVested                  2248 non-null   object \n",
      " 73  BeneficiariesTotal                 5111 non-null   object \n",
      " 74  ActCostMeth_GASB                   5036 non-null   object \n",
      " 75  AssetValMeth_GASB                  5004 non-null   object \n",
      " 76  FundingMeth_GASB                   4667 non-null   object \n",
      " 77  ActuarialFirm                      3440 non-null   object \n",
      " 78   StateGenFundExpenditures          3822 non-null   object \n",
      " 79   StateOwnSourceExpenditures        3822 non-null   object \n",
      " 80   StateTotalExpenditures            3822 non-null   object \n",
      " 81   GDP                               4163 non-null   object \n",
      " 82   InvestmentExpense_SCFNP           4718 non-null   object \n",
      " 83  InvestmentExpenses                 3766 non-null   object \n",
      " 84  SecuritiesLendingExpense_SCFNP     4479 non-null   object \n",
      " 85  Professional_ConsultantFees        3631 non-null   object \n",
      " 86  BrokerCommissions                  3945 non-null   object \n",
      " 87  FundedRatio_GASB                   5183 non-null   object \n",
      " 88  FundedRatio_MVA                    5172 non-null   object \n",
      " 89  MunicipalTag                       5684 non-null   int64  \n",
      "dtypes: float64(4), int64(3), object(83)\n",
      "memory usage: 3.9+ MB\n"
     ]
    }
   ],
   "source": [
    "df.info()"
   ]
  },
  {
   "cell_type": "code",
   "execution_count": null,
   "metadata": {},
   "outputs": [],
   "source": [
    "# lkmlk"
   ]
  }
 ],
 "metadata": {
  "language_info": {
   "name": "python"
  }
 },
 "nbformat": 4,
 "nbformat_minor": 2
}
