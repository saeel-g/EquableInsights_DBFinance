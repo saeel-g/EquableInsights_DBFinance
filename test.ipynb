{
 "cells": [
  {
   "cell_type": "code",
   "execution_count": 1,
   "metadata": {},
   "outputs": [
    {
     "name": "stdout",
     "output_type": "stream",
     "text": [
      "     A    B\n",
      "0  1.0  NaN\n",
      "1  2.0  2.0\n",
      "2  NaN  3.0\n",
      "3  4.0  NaN\n",
      "4  NaN  5.0\n"
     ]
    }
   ],
   "source": [
    "import pandas as pd\n",
    "import numpy as np\n",
    "\n",
    "# Create a sample DataFrame with \"DNE\" and \"N/R\" as placeholders for missing data\n",
    "data = {'A': [1, 2, 'DNE', 4, 'N/R'],\n",
    "        'B': ['N/R', 2, 3, 'DNE', 5]}\n",
    "df = pd.DataFrame(data)\n",
    "\n",
    "# Replace \"DNE\" and \"N/R\" with NaN\n",
    "df = df.replace(['DNE', 'N/R'], np.nan)\n",
    "\n",
    "print(df)\n"
   ]
  },
  {
   "cell_type": "code",
   "execution_count": 1,
   "metadata": {},
   "outputs": [
    {
     "name": "stdout",
     "output_type": "stream",
     "text": [
      "   column1  column2  result\n",
      "0       10        2     5.0\n",
      "1       20        4     5.0\n",
      "2       30        5     6.0\n",
      "3       40        8     5.0\n"
     ]
    }
   ],
   "source": [
    "import pandas as pd\n",
    "\n",
    "# Create a sample DataFrame\n",
    "data = {'column1': [10, 20, 30, 40],\n",
    "        'column2': [2, 4, 5, 8]}\n",
    "\n",
    "df = pd.DataFrame(data)\n",
    "\n",
    "# Create a new column 'result' by dividing 'column1' by 'column2'\n",
    "df['result'] = df['column1'] / df['column2']\n",
    "\n",
    "# Display the updated DataFrame\n",
    "print(df)\n"
   ]
  }
 ],
 "metadata": {
  "kernelspec": {
   "display_name": "ipmyenv",
   "language": "python",
   "name": "python3"
  },
  "language_info": {
   "codemirror_mode": {
    "name": "ipython",
    "version": 3
   },
   "file_extension": ".py",
   "mimetype": "text/x-python",
   "name": "python",
   "nbconvert_exporter": "python",
   "pygments_lexer": "ipython3",
   "version": "3.11.5"
  },
  "orig_nbformat": 4
 },
 "nbformat": 4,
 "nbformat_minor": 2
}
