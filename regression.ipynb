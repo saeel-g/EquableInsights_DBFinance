{
 "cells": [
  {
   "cell_type": "code",
   "execution_count": 24,
   "metadata": {},
   "outputs": [],
   "source": [
    "import pandas as pd\n",
    "import seaborn as sns\n",
    "import numpy as np\n",
    "import calendar\n",
    "import matplotlib.pyplot as plt\n"
   ]
  },
  {
   "cell_type": "code",
   "execution_count": 25,
   "metadata": {},
   "outputs": [],
   "source": [
    "df=pd.read_csv('DATA.csv', encoding='ISO-8859-1')"
   ]
  },
  {
   "cell_type": "code",
   "execution_count": 26,
   "metadata": {},
   "outputs": [
    {
     "name": "stdout",
     "output_type": "stream",
     "text": [
      "<class 'pandas.core.frame.DataFrame'>\n",
      "RangeIndex: 5684 entries, 0 to 5683\n",
      "Data columns (total 90 columns):\n",
      " #   Column                             Non-Null Count  Dtype  \n",
      "---  ------                             --------------  -----  \n",
      " 0   EquableID                          5684 non-null   int64  \n",
      " 1   System_Name                        5684 non-null   object \n",
      " 2   Plan_FullName                      5684 non-null   object \n",
      " 3   Plan_InternalName                  5684 non-null   object \n",
      " 4   Plan_Shorthand                     5684 non-null   object \n",
      " 5   Investment_Fund                    5683 non-null   object \n",
      " 6   SSA                                5661 non-null   object \n",
      " 7   SSANotes                           597 non-null    object \n",
      " 8   Job_Covers                         5684 non-null   object \n",
      " 9   StateAbbrev                        5684 non-null   object \n",
      " 10  StateName                          5684 non-null   object \n",
      " 11  GovtName                           5684 non-null   object \n",
      " 12  ActRptDate                         5684 non-null   object \n",
      " 13  DateFYE                            5684 non-null   object \n",
      " 14  Month                              5662 non-null   float64\n",
      " 15  Year                               5684 non-null   int64  \n",
      " 16  ValReport                          5500 non-null   float64\n",
      " 17  ACFR                               5499 non-null   float64\n",
      " 18  DocumentNotes                      876 non-null    object \n",
      " 19  MiscellaneousNotes                 605 non-null    object \n",
      " 20  Mem_NC                             4862 non-null   object \n",
      " 21  Mem_UAAL                           4865 non-null   object \n",
      " 22  Mem_Tot                            4865 non-null   object \n",
      " 23  Emp_NC                             4853 non-null   object \n",
      " 24  Emp_UAAL                           4853 non-null   object \n",
      " 25  Emp_Tot                            4866 non-null   object \n",
      " 26  NC_Tot                             4858 non-null   object \n",
      " 27   UAAL_Tot                          4856 non-null   object \n",
      " 28   AVA                               5150 non-null   object \n",
      " 29  AAL                                5148 non-null   object \n",
      " 30   UAAL                              5150 non-null   object \n",
      " 31   FundedRatio_Actuarial             5155 non-null   object \n",
      " 32   MVA                               5078 non-null   object \n",
      " 33   CoveredPayroll_SFP                5098 non-null   object \n",
      " 34   CoveredPayroll_SEC                3303 non-null   object \n",
      " 35   ActiveMemberSalaries              4154 non-null   object \n",
      " 36   TPL                               4420 non-null   object \n",
      " 37   FNP                               4430 non-null   object \n",
      " 38   NPL                               4414 non-null   object \n",
      " 39  ARR                                5145 non-null   object \n",
      " 40  ReturnAsOf                         587 non-null    object \n",
      " 41  Source                             415 non-null    object \n",
      " 42  ReturnClassification               582 non-null    object \n",
      " 43  RollForward                        230 non-null    float64\n",
      " 44  Returns_1Year                      5297 non-null   object \n",
      " 45  Returns_3Year                      4344 non-null   object \n",
      " 46  Returns_5Year                      4483 non-null   object \n",
      " 47  Returns_10Year                     3353 non-null   object \n",
      " 48  EquityAllocationActual             4894 non-null   object \n",
      " 49  FixedIncomeAllocationActual        4894 non-null   object \n",
      " 50  RealEstateAllocationActual         4893 non-null   object \n",
      " 51  AltMiscAllocationActual            4893 non-null   object \n",
      " 52  PrivateEquityAllocationActual      4894 non-null   object \n",
      " 53  HedgeFundAllocationActual          4894 non-null   object \n",
      " 54  COMDAllocationActual               4890 non-null   object \n",
      " 55  CashAllocationActual               4894 non-null   object \n",
      " 56   OtherAllocationActual             4889 non-null   object \n",
      " 57  AssetAllocationTotal               5102 non-null   object \n",
      " 58  DiscountRate                       5021 non-null   object \n",
      " 59   AmortPeriodR                      4500 non-null   object \n",
      " 60   ADEC                              5151 non-null   object \n",
      " 61  ADECasPercentofCoveredPayroll      5126 non-null   object \n",
      " 62  PaidContributionasPercentofCover   5132 non-null   object \n",
      " 63  RequiredEmployerContribution       5155 non-null   object \n",
      " 64   PaidEmployerContribution          5162 non-null   object \n",
      " 65   PercentReqContPaidContPaidAsPer   5114 non-null   object \n",
      " 66  PayrollGrowthAssumption            4880 non-null   object \n",
      " 67  InflationAssumption_GASB           4762 non-null   object \n",
      " 68  TotalBenefits                      5130 non-null   object \n",
      " 69  RetirementBenefits                 4954 non-null   object \n",
      " 70  ActiveMemberTotal                  5119 non-null   object \n",
      " 71  InactiveVestedMembers              4350 non-null   object \n",
      " 72  InactiveNonVested                  2248 non-null   object \n",
      " 73  BeneficiariesTotal                 5111 non-null   object \n",
      " 74  ActCostMeth_GASB                   5036 non-null   object \n",
      " 75  AssetValMeth_GASB                  5004 non-null   object \n",
      " 76  FundingMeth_GASB                   4667 non-null   object \n",
      " 77  ActuarialFirm                      3440 non-null   object \n",
      " 78   StateGenFundExpenditures          3822 non-null   object \n",
      " 79   StateOwnSourceExpenditures        3822 non-null   object \n",
      " 80   StateTotalExpenditures            3822 non-null   object \n",
      " 81   GDP                               4163 non-null   object \n",
      " 82   InvestmentExpense_SCFNP           4718 non-null   object \n",
      " 83  InvestmentExpenses                 3766 non-null   object \n",
      " 84  SecuritiesLendingExpense_SCFNP     4479 non-null   object \n",
      " 85  Professional_ConsultantFees        3631 non-null   object \n",
      " 86  BrokerCommissions                  3945 non-null   object \n",
      " 87  FundedRatio_GASB                   5183 non-null   object \n",
      " 88  FundedRatio_MVA                    5172 non-null   object \n",
      " 89  MunicipalTag                       5684 non-null   int64  \n",
      "dtypes: float64(4), int64(3), object(83)\n",
      "memory usage: 3.9+ MB\n"
     ]
    }
   ],
   "source": [
    "df.info()"
   ]
  },
  {
   "cell_type": "code",
   "execution_count": 27,
   "metadata": {},
   "outputs": [
    {
     "data": {
      "text/html": [
       "<div>\n",
       "<style scoped>\n",
       "    .dataframe tbody tr th:only-of-type {\n",
       "        vertical-align: middle;\n",
       "    }\n",
       "\n",
       "    .dataframe tbody tr th {\n",
       "        vertical-align: top;\n",
       "    }\n",
       "\n",
       "    .dataframe thead th {\n",
       "        text-align: right;\n",
       "    }\n",
       "</style>\n",
       "<table border=\"1\" class=\"dataframe\">\n",
       "  <thead>\n",
       "    <tr style=\"text-align: right;\">\n",
       "      <th></th>\n",
       "      <th>EquableID</th>\n",
       "      <th>System_Name</th>\n",
       "      <th>Plan_FullName</th>\n",
       "      <th>Plan_InternalName</th>\n",
       "      <th>Plan_Shorthand</th>\n",
       "      <th>Investment_Fund</th>\n",
       "      <th>SSA</th>\n",
       "      <th>SSANotes</th>\n",
       "      <th>Job_Covers</th>\n",
       "      <th>StateAbbrev</th>\n",
       "      <th>...</th>\n",
       "      <th>StateTotalExpenditures</th>\n",
       "      <th>GDP</th>\n",
       "      <th>InvestmentExpense_SCFNP</th>\n",
       "      <th>InvestmentExpenses</th>\n",
       "      <th>SecuritiesLendingExpense_SCFNP</th>\n",
       "      <th>Professional_ConsultantFees</th>\n",
       "      <th>BrokerCommissions</th>\n",
       "      <th>FundedRatio_GASB</th>\n",
       "      <th>FundedRatio_MVA</th>\n",
       "      <th>MunicipalTag</th>\n",
       "    </tr>\n",
       "  </thead>\n",
       "  <tbody>\n",
       "    <tr>\n",
       "      <th>0</th>\n",
       "      <td>10100</td>\n",
       "      <td>Retirement Systems of Alabama</td>\n",
       "      <td>Alabama Employees' Retirement System</td>\n",
       "      <td>Alabama State &amp; Local</td>\n",
       "      <td>Alabama ERS</td>\n",
       "      <td>Retirement Systems of Alabama</td>\n",
       "      <td>Yes</td>\n",
       "      <td>NaN</td>\n",
       "      <td>State, Local</td>\n",
       "      <td>AL</td>\n",
       "      <td>...</td>\n",
       "      <td>NaN</td>\n",
       "      <td></td>\n",
       "      <td>N/R</td>\n",
       "      <td>N/R</td>\n",
       "      <td>N/R</td>\n",
       "      <td>N/R</td>\n",
       "      <td>N/R</td>\n",
       "      <td>#VALUE!</td>\n",
       "      <td>1.066393251</td>\n",
       "      <td>0</td>\n",
       "    </tr>\n",
       "    <tr>\n",
       "      <th>1</th>\n",
       "      <td>10100</td>\n",
       "      <td>Retirement Systems of Alabama</td>\n",
       "      <td>Alabama Employees' Retirement System</td>\n",
       "      <td>Alabama State &amp; Local</td>\n",
       "      <td>Alabama ERS</td>\n",
       "      <td>Retirement Systems of Alabama</td>\n",
       "      <td>Yes</td>\n",
       "      <td>NaN</td>\n",
       "      <td>State, Local</td>\n",
       "      <td>AL</td>\n",
       "      <td>...</td>\n",
       "      <td>$15,49,00,00,000.00</td>\n",
       "      <td>$1,22,91,55,00,000.00</td>\n",
       "      <td>$15,93,000.00</td>\n",
       "      <td>20974000</td>\n",
       "      <td>385000</td>\n",
       "      <td>537000</td>\n",
       "      <td>2837152.778</td>\n",
       "      <td>#VALUE!</td>\n",
       "      <td>0.900420143</td>\n",
       "      <td>0</td>\n",
       "    </tr>\n",
       "    <tr>\n",
       "      <th>2</th>\n",
       "      <td>10100</td>\n",
       "      <td>Retirement Systems of Alabama</td>\n",
       "      <td>Alabama Employees' Retirement System</td>\n",
       "      <td>Alabama State &amp; Local</td>\n",
       "      <td>Alabama ERS</td>\n",
       "      <td>Retirement Systems of Alabama</td>\n",
       "      <td>Yes</td>\n",
       "      <td>NaN</td>\n",
       "      <td>State, Local</td>\n",
       "      <td>AL</td>\n",
       "      <td>...</td>\n",
       "      <td>$15,31,30,00,000.00</td>\n",
       "      <td>$1,27,50,50,00,000.00</td>\n",
       "      <td>$23,31,000.00</td>\n",
       "      <td>6758000</td>\n",
       "      <td>333000</td>\n",
       "      <td>1138000</td>\n",
       "      <td>2252057.36</td>\n",
       "      <td>#VALUE!</td>\n",
       "      <td>0.755354084</td>\n",
       "      <td>0</td>\n",
       "    </tr>\n",
       "    <tr>\n",
       "      <th>3</th>\n",
       "      <td>10100</td>\n",
       "      <td>Retirement Systems of Alabama</td>\n",
       "      <td>Alabama Employees' Retirement System</td>\n",
       "      <td>Alabama State &amp; Local</td>\n",
       "      <td>Alabama ERS</td>\n",
       "      <td>Retirement Systems of Alabama</td>\n",
       "      <td>Yes</td>\n",
       "      <td>NaN</td>\n",
       "      <td>State, Local</td>\n",
       "      <td>AL</td>\n",
       "      <td>...</td>\n",
       "      <td>$15,70,20,00,000.00</td>\n",
       "      <td>$1,34,15,26,00,000.00</td>\n",
       "      <td>$23,80,000.00</td>\n",
       "      <td>N/R</td>\n",
       "      <td>266000</td>\n",
       "      <td>N/R</td>\n",
       "      <td>2654439.247</td>\n",
       "      <td>#VALUE!</td>\n",
       "      <td>0.789516681</td>\n",
       "      <td>0</td>\n",
       "    </tr>\n",
       "    <tr>\n",
       "      <th>4</th>\n",
       "      <td>10100</td>\n",
       "      <td>Retirement Systems of Alabama</td>\n",
       "      <td>Alabama Employees' Retirement System</td>\n",
       "      <td>Alabama State &amp; Local</td>\n",
       "      <td>Alabama ERS</td>\n",
       "      <td>Retirement Systems of Alabama</td>\n",
       "      <td>Yes</td>\n",
       "      <td>NaN</td>\n",
       "      <td>State, Local</td>\n",
       "      <td>AL</td>\n",
       "      <td>...</td>\n",
       "      <td>$16,02,90,00,000.00</td>\n",
       "      <td>$1,47,71,52,00,000.00</td>\n",
       "      <td>$23,90,000.00</td>\n",
       "      <td>5991000</td>\n",
       "      <td>283000</td>\n",
       "      <td>735000</td>\n",
       "      <td>2867142.931</td>\n",
       "      <td>#VALUE!</td>\n",
       "      <td>0.810123336</td>\n",
       "      <td>0</td>\n",
       "    </tr>\n",
       "  </tbody>\n",
       "</table>\n",
       "<p>5 rows × 90 columns</p>\n",
       "</div>"
      ],
      "text/plain": [
       "   EquableID                    System_Name  \\\n",
       "0      10100  Retirement Systems of Alabama   \n",
       "1      10100  Retirement Systems of Alabama   \n",
       "2      10100  Retirement Systems of Alabama   \n",
       "3      10100  Retirement Systems of Alabama   \n",
       "4      10100  Retirement Systems of Alabama   \n",
       "\n",
       "                          Plan_FullName      Plan_InternalName Plan_Shorthand  \\\n",
       "0  Alabama Employees' Retirement System  Alabama State & Local    Alabama ERS   \n",
       "1  Alabama Employees' Retirement System  Alabama State & Local    Alabama ERS   \n",
       "2  Alabama Employees' Retirement System  Alabama State & Local    Alabama ERS   \n",
       "3  Alabama Employees' Retirement System  Alabama State & Local    Alabama ERS   \n",
       "4  Alabama Employees' Retirement System  Alabama State & Local    Alabama ERS   \n",
       "\n",
       "                 Investment_Fund  SSA SSANotes    Job_Covers StateAbbrev  ...  \\\n",
       "0  Retirement Systems of Alabama  Yes      NaN  State, Local          AL  ...   \n",
       "1  Retirement Systems of Alabama  Yes      NaN  State, Local          AL  ...   \n",
       "2  Retirement Systems of Alabama  Yes      NaN  State, Local          AL  ...   \n",
       "3  Retirement Systems of Alabama  Yes      NaN  State, Local          AL  ...   \n",
       "4  Retirement Systems of Alabama  Yes      NaN  State, Local          AL  ...   \n",
       "\n",
       "   StateTotalExpenditures                      GDP   InvestmentExpense_SCFNP   \\\n",
       "0                      NaN                                               N/R    \n",
       "1     $15,49,00,00,000.00    $1,22,91,55,00,000.00             $15,93,000.00    \n",
       "2     $15,31,30,00,000.00    $1,27,50,50,00,000.00             $23,31,000.00    \n",
       "3     $15,70,20,00,000.00    $1,34,15,26,00,000.00             $23,80,000.00    \n",
       "4     $16,02,90,00,000.00    $1,47,71,52,00,000.00             $23,90,000.00    \n",
       "\n",
       "  InvestmentExpenses  SecuritiesLendingExpense_SCFNP  \\\n",
       "0                N/R                             N/R   \n",
       "1           20974000                          385000   \n",
       "2            6758000                          333000   \n",
       "3                N/R                          266000   \n",
       "4            5991000                          283000   \n",
       "\n",
       "   Professional_ConsultantFees  BrokerCommissions  FundedRatio_GASB  \\\n",
       "0                          N/R                N/R           #VALUE!   \n",
       "1                       537000        2837152.778           #VALUE!   \n",
       "2                      1138000         2252057.36           #VALUE!   \n",
       "3                          N/R        2654439.247           #VALUE!   \n",
       "4                       735000        2867142.931           #VALUE!   \n",
       "\n",
       "  FundedRatio_MVA MunicipalTag  \n",
       "0     1.066393251            0  \n",
       "1     0.900420143            0  \n",
       "2     0.755354084            0  \n",
       "3     0.789516681            0  \n",
       "4     0.810123336            0  \n",
       "\n",
       "[5 rows x 90 columns]"
      ]
     },
     "execution_count": 27,
     "metadata": {},
     "output_type": "execute_result"
    }
   ],
   "source": [
    "df.head()"
   ]
  },
  {
   "cell_type": "code",
   "execution_count": 28,
   "metadata": {},
   "outputs": [
    {
     "data": {
      "text/plain": [
       "EquableID                               0\n",
       "System_Name                             0\n",
       "Plan_FullName                           0\n",
       "Plan_InternalName                       0\n",
       "Plan_Shorthand                          0\n",
       "Investment_Fund                         1\n",
       "SSA                                    23\n",
       "SSANotes                             5087\n",
       "Job_Covers                              0\n",
       "StateAbbrev                             0\n",
       "StateName                               0\n",
       "GovtName                                0\n",
       "ActRptDate                              0\n",
       "DateFYE                                 0\n",
       "Month                                  22\n",
       "Year                                    0\n",
       "ValReport                             184\n",
       "ACFR                                  185\n",
       "DocumentNotes                        4808\n",
       "MiscellaneousNotes                   5079\n",
       "Mem_NC                                822\n",
       "Mem_UAAL                              819\n",
       "Mem_Tot                               819\n",
       "Emp_NC                                831\n",
       "Emp_UAAL                              831\n",
       "Emp_Tot                               818\n",
       "NC_Tot                                826\n",
       " UAAL_Tot                             828\n",
       " AVA                                  534\n",
       "AAL                                   536\n",
       " UAAL                                 534\n",
       " FundedRatio_Actuarial                529\n",
       " MVA                                  606\n",
       " CoveredPayroll_SFP                   586\n",
       " CoveredPayroll_SEC                  2381\n",
       " ActiveMemberSalaries                1530\n",
       " TPL                                 1264\n",
       " FNP                                 1254\n",
       " NPL                                 1270\n",
       "ARR                                   539\n",
       "ReturnAsOf                           5097\n",
       "Source                               5269\n",
       "ReturnClassification                 5102\n",
       "RollForward                          5454\n",
       "Returns_1Year                         387\n",
       "Returns_3Year                        1340\n",
       "Returns_5Year                        1201\n",
       "Returns_10Year                       2331\n",
       "EquityAllocationActual                790\n",
       "FixedIncomeAllocationActual           790\n",
       "RealEstateAllocationActual            791\n",
       "AltMiscAllocationActual               791\n",
       "PrivateEquityAllocationActual         790\n",
       "HedgeFundAllocationActual             790\n",
       "COMDAllocationActual                  794\n",
       "CashAllocationActual                  790\n",
       " OtherAllocationActual                795\n",
       "AssetAllocationTotal                  582\n",
       "DiscountRate                          663\n",
       " AmortPeriodR                        1184\n",
       " ADEC                                 533\n",
       "ADECasPercentofCoveredPayroll         558\n",
       "PaidContributionasPercentofCover      552\n",
       "RequiredEmployerContribution          529\n",
       " PaidEmployerContribution             522\n",
       " PercentReqContPaidContPaidAsPer      570\n",
       "PayrollGrowthAssumption               804\n",
       "InflationAssumption_GASB              922\n",
       "TotalBenefits                         554\n",
       "RetirementBenefits                    730\n",
       "ActiveMemberTotal                     565\n",
       "InactiveVestedMembers                1334\n",
       "InactiveNonVested                    3436\n",
       "BeneficiariesTotal                    573\n",
       "ActCostMeth_GASB                      648\n",
       "AssetValMeth_GASB                     680\n",
       "FundingMeth_GASB                     1017\n",
       "ActuarialFirm                        2244\n",
       " StateGenFundExpenditures            1862\n",
       " StateOwnSourceExpenditures          1862\n",
       " StateTotalExpenditures              1862\n",
       " GDP                                 1521\n",
       " InvestmentExpense_SCFNP              966\n",
       "InvestmentExpenses                   1918\n",
       "SecuritiesLendingExpense_SCFNP       1205\n",
       "Professional_ConsultantFees          2053\n",
       "BrokerCommissions                    1739\n",
       "FundedRatio_GASB                      501\n",
       "FundedRatio_MVA                       512\n",
       "MunicipalTag                            0\n",
       "dtype: int64"
      ]
     },
     "execution_count": 28,
     "metadata": {},
     "output_type": "execute_result"
    }
   ],
   "source": [
    "pd.set_option('display.max_rows', None)\n",
    "df.isnull().sum()"
   ]
  },
  {
   "cell_type": "code",
   "execution_count": 29,
   "metadata": {},
   "outputs": [],
   "source": [
    "df=df.drop(columns=['SSANotes','StateAbbrev','DocumentNotes','MiscellaneousNotes','ReturnAsOf','Source','ReturnClassification','RollForward','Plan_InternalName','Plan_FullName','System_Name','EquableID' ])"
   ]
  },
  {
   "cell_type": "code",
   "execution_count": 30,
   "metadata": {},
   "outputs": [
    {
     "name": "stdout",
     "output_type": "stream",
     "text": [
      "<class 'pandas.core.frame.DataFrame'>\n",
      "RangeIndex: 5684 entries, 0 to 5683\n",
      "Data columns (total 78 columns):\n",
      " #   Column                             Non-Null Count  Dtype  \n",
      "---  ------                             --------------  -----  \n",
      " 0   Plan_Shorthand                     5684 non-null   object \n",
      " 1   Investment_Fund                    5683 non-null   object \n",
      " 2   SSA                                5661 non-null   object \n",
      " 3   Job_Covers                         5684 non-null   object \n",
      " 4   StateName                          5684 non-null   object \n",
      " 5   GovtName                           5684 non-null   object \n",
      " 6   ActRptDate                         5684 non-null   object \n",
      " 7   DateFYE                            5684 non-null   object \n",
      " 8   Month                              5662 non-null   float64\n",
      " 9   Year                               5684 non-null   int64  \n",
      " 10  ValReport                          5500 non-null   float64\n",
      " 11  ACFR                               5499 non-null   float64\n",
      " 12  Mem_NC                             4862 non-null   object \n",
      " 13  Mem_UAAL                           4865 non-null   object \n",
      " 14  Mem_Tot                            4865 non-null   object \n",
      " 15  Emp_NC                             4853 non-null   object \n",
      " 16  Emp_UAAL                           4853 non-null   object \n",
      " 17  Emp_Tot                            4866 non-null   object \n",
      " 18  NC_Tot                             4858 non-null   object \n",
      " 19   UAAL_Tot                          4856 non-null   object \n",
      " 20   AVA                               5150 non-null   object \n",
      " 21  AAL                                5148 non-null   object \n",
      " 22   UAAL                              5150 non-null   object \n",
      " 23   FundedRatio_Actuarial             5155 non-null   object \n",
      " 24   MVA                               5078 non-null   object \n",
      " 25   CoveredPayroll_SFP                5098 non-null   object \n",
      " 26   CoveredPayroll_SEC                3303 non-null   object \n",
      " 27   ActiveMemberSalaries              4154 non-null   object \n",
      " 28   TPL                               4420 non-null   object \n",
      " 29   FNP                               4430 non-null   object \n",
      " 30   NPL                               4414 non-null   object \n",
      " 31  ARR                                5145 non-null   object \n",
      " 32  Returns_1Year                      5297 non-null   object \n",
      " 33  Returns_3Year                      4344 non-null   object \n",
      " 34  Returns_5Year                      4483 non-null   object \n",
      " 35  Returns_10Year                     3353 non-null   object \n",
      " 36  EquityAllocationActual             4894 non-null   object \n",
      " 37  FixedIncomeAllocationActual        4894 non-null   object \n",
      " 38  RealEstateAllocationActual         4893 non-null   object \n",
      " 39  AltMiscAllocationActual            4893 non-null   object \n",
      " 40  PrivateEquityAllocationActual      4894 non-null   object \n",
      " 41  HedgeFundAllocationActual          4894 non-null   object \n",
      " 42  COMDAllocationActual               4890 non-null   object \n",
      " 43  CashAllocationActual               4894 non-null   object \n",
      " 44   OtherAllocationActual             4889 non-null   object \n",
      " 45  AssetAllocationTotal               5102 non-null   object \n",
      " 46  DiscountRate                       5021 non-null   object \n",
      " 47   AmortPeriodR                      4500 non-null   object \n",
      " 48   ADEC                              5151 non-null   object \n",
      " 49  ADECasPercentofCoveredPayroll      5126 non-null   object \n",
      " 50  PaidContributionasPercentofCover   5132 non-null   object \n",
      " 51  RequiredEmployerContribution       5155 non-null   object \n",
      " 52   PaidEmployerContribution          5162 non-null   object \n",
      " 53   PercentReqContPaidContPaidAsPer   5114 non-null   object \n",
      " 54  PayrollGrowthAssumption            4880 non-null   object \n",
      " 55  InflationAssumption_GASB           4762 non-null   object \n",
      " 56  TotalBenefits                      5130 non-null   object \n",
      " 57  RetirementBenefits                 4954 non-null   object \n",
      " 58  ActiveMemberTotal                  5119 non-null   object \n",
      " 59  InactiveVestedMembers              4350 non-null   object \n",
      " 60  InactiveNonVested                  2248 non-null   object \n",
      " 61  BeneficiariesTotal                 5111 non-null   object \n",
      " 62  ActCostMeth_GASB                   5036 non-null   object \n",
      " 63  AssetValMeth_GASB                  5004 non-null   object \n",
      " 64  FundingMeth_GASB                   4667 non-null   object \n",
      " 65  ActuarialFirm                      3440 non-null   object \n",
      " 66   StateGenFundExpenditures          3822 non-null   object \n",
      " 67   StateOwnSourceExpenditures        3822 non-null   object \n",
      " 68   StateTotalExpenditures            3822 non-null   object \n",
      " 69   GDP                               4163 non-null   object \n",
      " 70   InvestmentExpense_SCFNP           4718 non-null   object \n",
      " 71  InvestmentExpenses                 3766 non-null   object \n",
      " 72  SecuritiesLendingExpense_SCFNP     4479 non-null   object \n",
      " 73  Professional_ConsultantFees        3631 non-null   object \n",
      " 74  BrokerCommissions                  3945 non-null   object \n",
      " 75  FundedRatio_GASB                   5183 non-null   object \n",
      " 76  FundedRatio_MVA                    5172 non-null   object \n",
      " 77  MunicipalTag                       5684 non-null   int64  \n",
      "dtypes: float64(3), int64(2), object(73)\n",
      "memory usage: 3.4+ MB\n"
     ]
    },
    {
     "data": {
      "text/plain": [
       "Plan_Shorthand                          0\n",
       "Investment_Fund                         1\n",
       "SSA                                    23\n",
       "Job_Covers                              0\n",
       "StateName                               0\n",
       "GovtName                                0\n",
       "ActRptDate                              0\n",
       "DateFYE                                 0\n",
       "Month                                  22\n",
       "Year                                    0\n",
       "ValReport                             184\n",
       "ACFR                                  185\n",
       "Mem_NC                                822\n",
       "Mem_UAAL                              819\n",
       "Mem_Tot                               819\n",
       "Emp_NC                                831\n",
       "Emp_UAAL                              831\n",
       "Emp_Tot                               818\n",
       "NC_Tot                                826\n",
       " UAAL_Tot                             828\n",
       " AVA                                  534\n",
       "AAL                                   536\n",
       " UAAL                                 534\n",
       " FundedRatio_Actuarial                529\n",
       " MVA                                  606\n",
       " CoveredPayroll_SFP                   586\n",
       " CoveredPayroll_SEC                  2381\n",
       " ActiveMemberSalaries                1530\n",
       " TPL                                 1264\n",
       " FNP                                 1254\n",
       " NPL                                 1270\n",
       "ARR                                   539\n",
       "Returns_1Year                         387\n",
       "Returns_3Year                        1340\n",
       "Returns_5Year                        1201\n",
       "Returns_10Year                       2331\n",
       "EquityAllocationActual                790\n",
       "FixedIncomeAllocationActual           790\n",
       "RealEstateAllocationActual            791\n",
       "AltMiscAllocationActual               791\n",
       "PrivateEquityAllocationActual         790\n",
       "HedgeFundAllocationActual             790\n",
       "COMDAllocationActual                  794\n",
       "CashAllocationActual                  790\n",
       " OtherAllocationActual                795\n",
       "AssetAllocationTotal                  582\n",
       "DiscountRate                          663\n",
       " AmortPeriodR                        1184\n",
       " ADEC                                 533\n",
       "ADECasPercentofCoveredPayroll         558\n",
       "PaidContributionasPercentofCover      552\n",
       "RequiredEmployerContribution          529\n",
       " PaidEmployerContribution             522\n",
       " PercentReqContPaidContPaidAsPer      570\n",
       "PayrollGrowthAssumption               804\n",
       "InflationAssumption_GASB              922\n",
       "TotalBenefits                         554\n",
       "RetirementBenefits                    730\n",
       "ActiveMemberTotal                     565\n",
       "InactiveVestedMembers                1334\n",
       "InactiveNonVested                    3436\n",
       "BeneficiariesTotal                    573\n",
       "ActCostMeth_GASB                      648\n",
       "AssetValMeth_GASB                     680\n",
       "FundingMeth_GASB                     1017\n",
       "ActuarialFirm                        2244\n",
       " StateGenFundExpenditures            1862\n",
       " StateOwnSourceExpenditures          1862\n",
       " StateTotalExpenditures              1862\n",
       " GDP                                 1521\n",
       " InvestmentExpense_SCFNP              966\n",
       "InvestmentExpenses                   1918\n",
       "SecuritiesLendingExpense_SCFNP       1205\n",
       "Professional_ConsultantFees          2053\n",
       "BrokerCommissions                    1739\n",
       "FundedRatio_GASB                      501\n",
       "FundedRatio_MVA                       512\n",
       "MunicipalTag                            0\n",
       "dtype: int64"
      ]
     },
     "execution_count": 30,
     "metadata": {},
     "output_type": "execute_result"
    }
   ],
   "source": [
    "df.info()\n",
    "df.isnull().sum()"
   ]
  },
  {
   "cell_type": "code",
   "execution_count": 31,
   "metadata": {},
   "outputs": [
    {
     "data": {
      "text/plain": [
       "0"
      ]
     },
     "execution_count": 31,
     "metadata": {},
     "output_type": "execute_result"
    }
   ],
   "source": [
    "df['Investment_Fund'].value_counts()\n",
    "# sb.countplot(df['Investment_Fund'])\n",
    "df['Investment_Fund'].replace(np.nan, 'Utah Retirement System', inplace=True)\n",
    "df['Investment_Fund'].isnull().sum()\n"
   ]
  },
  {
   "cell_type": "code",
   "execution_count": 32,
   "metadata": {},
   "outputs": [
    {
     "data": {
      "text/plain": [
       "0"
      ]
     },
     "execution_count": 32,
     "metadata": {},
     "output_type": "execute_result"
    }
   ],
   "source": [
    "\n",
    "# sb.countplot(df['SSA'])\n",
    "df['SSA'].replace(np.nan, 'Yes', inplace=True)\n",
    "df['SSA'].isnull().sum()\n"
   ]
  },
  {
   "cell_type": "code",
   "execution_count": 33,
   "metadata": {},
   "outputs": [
    {
     "data": {
      "text/plain": [
       "0"
      ]
     },
     "execution_count": 33,
     "metadata": {},
     "output_type": "execute_result"
    }
   ],
   "source": [
    "# df['Month'].value_counts()\n",
    "# sb.displot(df['Month'])\n",
    "df['Month'].replace(np.nan, df['Month'].mode()[0], inplace=True)\n",
    "df['Month'].isnull().sum()"
   ]
  },
  {
   "cell_type": "code",
   "execution_count": 34,
   "metadata": {},
   "outputs": [
    {
     "data": {
      "text/plain": [
       "0"
      ]
     },
     "execution_count": 34,
     "metadata": {},
     "output_type": "execute_result"
    },
    {
     "data": {
      "image/png": "[encoded data removed]",
      "text/plain": [
       "<Figure size 500x500 with 1 Axes>"
      ]
     },
     "metadata": {},
     "output_type": "display_data"
    }
   ],
   "source": [
    "sns.displot(df['ValReport'])\n",
    "df['ValReport'].isnull().sum()\n",
    "df['ValReport'].replace(np.nan, df['ValReport'].mode()[0], inplace=True)\n",
    "df['ValReport'].isnull().sum()"
   ]
  },
  {
   "cell_type": "code",
   "execution_count": 35,
   "metadata": {},
   "outputs": [
    {
     "data": {
      "text/plain": [
       "0"
      ]
     },
     "execution_count": 35,
     "metadata": {},
     "output_type": "execute_result"
    },
    {
     "data": {
      "image/png": "[encoded data removed]",
      "text/plain": [
       "<Figure size 500x500 with 1 Axes>"
      ]
     },
     "metadata": {},
     "output_type": "display_data"
    }
   ],
   "source": [
    "sns.displot(df['ACFR'])\n",
    "df['ACFR'].isnull().sum()\n",
    "df['ACFR'].replace(np.nan, df['ACFR'].mode()[0], inplace=True)\n",
    "df['ACFR'].isnull().sum()"
   ]
  },
  {
   "cell_type": "code",
   "execution_count": 36,
   "metadata": {},
   "outputs": [
    {
     "data": {
      "text/plain": [
       "(5684, 78)"
      ]
     },
     "execution_count": 36,
     "metadata": {},
     "output_type": "execute_result"
    }
   ],
   "source": [
    "df.shape"
   ]
  },
  {
   "cell_type": "code",
   "execution_count": 37,
   "metadata": {},
   "outputs": [
    {
     "data": {
      "text/plain": [
       "Plan_Shorthand                          0\n",
       "Investment_Fund                         0\n",
       "SSA                                     0\n",
       "Job_Covers                              0\n",
       "StateName                               0\n",
       "GovtName                                0\n",
       "ActRptDate                              0\n",
       "DateFYE                                 0\n",
       "Month                                   0\n",
       "Year                                    0\n",
       "ValReport                               0\n",
       "ACFR                                    0\n",
       "Mem_NC                                822\n",
       "Mem_UAAL                              819\n",
       "Mem_Tot                               819\n",
       "Emp_NC                                831\n",
       "Emp_UAAL                              831\n",
       "Emp_Tot                               818\n",
       "NC_Tot                                826\n",
       " UAAL_Tot                             828\n",
       " AVA                                  534\n",
       "AAL                                   536\n",
       " UAAL                                 534\n",
       " FundedRatio_Actuarial                529\n",
       " MVA                                  606\n",
       " CoveredPayroll_SFP                   586\n",
       " CoveredPayroll_SEC                  2381\n",
       " ActiveMemberSalaries                1530\n",
       " TPL                                 1264\n",
       " FNP                                 1254\n",
       " NPL                                 1270\n",
       "ARR                                   539\n",
       "Returns_1Year                         387\n",
       "Returns_3Year                        1340\n",
       "Returns_5Year                        1201\n",
       "Returns_10Year                       2331\n",
       "EquityAllocationActual                790\n",
       "FixedIncomeAllocationActual           790\n",
       "RealEstateAllocationActual            791\n",
       "AltMiscAllocationActual               791\n",
       "PrivateEquityAllocationActual         790\n",
       "HedgeFundAllocationActual             790\n",
       "COMDAllocationActual                  794\n",
       "CashAllocationActual                  790\n",
       " OtherAllocationActual                795\n",
       "AssetAllocationTotal                  582\n",
       "DiscountRate                          663\n",
       " AmortPeriodR                        1184\n",
       " ADEC                                 533\n",
       "ADECasPercentofCoveredPayroll         558\n",
       "PaidContributionasPercentofCover      552\n",
       "RequiredEmployerContribution          529\n",
       " PaidEmployerContribution             522\n",
       " PercentReqContPaidContPaidAsPer      570\n",
       "PayrollGrowthAssumption               804\n",
       "InflationAssumption_GASB              922\n",
       "TotalBenefits                         554\n",
       "RetirementBenefits                    730\n",
       "ActiveMemberTotal                     565\n",
       "InactiveVestedMembers                1334\n",
       "InactiveNonVested                    3436\n",
       "BeneficiariesTotal                    573\n",
       "ActCostMeth_GASB                      648\n",
       "AssetValMeth_GASB                     680\n",
       "FundingMeth_GASB                     1017\n",
       "ActuarialFirm                        2244\n",
       " StateGenFundExpenditures            1862\n",
       " StateOwnSourceExpenditures          1862\n",
       " StateTotalExpenditures              1862\n",
       " GDP                                 1521\n",
       " InvestmentExpense_SCFNP              966\n",
       "InvestmentExpenses                   1918\n",
       "SecuritiesLendingExpense_SCFNP       1205\n",
       "Professional_ConsultantFees          2053\n",
       "BrokerCommissions                    1739\n",
       "FundedRatio_GASB                      501\n",
       "FundedRatio_MVA                       512\n",
       "MunicipalTag                            0\n",
       "dtype: int64"
      ]
     },
     "execution_count": 37,
     "metadata": {},
     "output_type": "execute_result"
    }
   ],
   "source": [
    "df.isnull().sum()"
   ]
  },
  {
   "cell_type": "code",
   "execution_count": 38,
   "metadata": {},
   "outputs": [],
   "source": [
    "df1=df[['Plan_Shorthand','Investment_Fund','SSA','Job_Covers','StateName','GovtName','ActRptDate','DateFYE','Month','Year','ValReport','ACFR','Mem_NC']]"
   ]
  },
  {
   "cell_type": "code",
   "execution_count": 39,
   "metadata": {},
   "outputs": [],
   "source": [
    "df1 = df1.dropna()"
   ]
  },
  {
   "cell_type": "code",
   "execution_count": 40,
   "metadata": {},
   "outputs": [],
   "source": [
    "df1 = df1[(df1['Mem_NC'] != 'N/R') & (df1['Mem_NC'] != 'DNE')]"
   ]
  },
  {
   "cell_type": "code",
   "execution_count": 41,
   "metadata": {},
   "outputs": [],
   "source": [
    "df1['Mem_NC'] = pd.to_numeric(df['Mem_NC'], errors='coerce')"
   ]
  },
  {
   "cell_type": "code",
   "execution_count": 42,
   "metadata": {},
   "outputs": [
    {
     "name": "stdout",
     "output_type": "stream",
     "text": [
      "<class 'pandas.core.frame.DataFrame'>\n",
      "Index: 4572 entries, 1 to 5681\n",
      "Data columns (total 13 columns):\n",
      " #   Column           Non-Null Count  Dtype  \n",
      "---  ------           --------------  -----  \n",
      " 0   Plan_Shorthand   4572 non-null   object \n",
      " 1   Investment_Fund  4572 non-null   object \n",
      " 2   SSA              4572 non-null   object \n",
      " 3   Job_Covers       4572 non-null   object \n",
      " 4   StateName        4572 non-null   object \n",
      " 5   GovtName         4572 non-null   object \n",
      " 6   ActRptDate       4572 non-null   object \n",
      " 7   DateFYE          4572 non-null   object \n",
      " 8   Month            4572 non-null   float64\n",
      " 9   Year             4572 non-null   int64  \n",
      " 10  ValReport        4572 non-null   float64\n",
      " 11  ACFR             4572 non-null   float64\n",
      " 12  Mem_NC           4572 non-null   float64\n",
      "dtypes: float64(4), int64(1), object(8)\n",
      "memory usage: 500.1+ KB\n"
     ]
    }
   ],
   "source": [
    "df1.info()"
   ]
  },
  {
   "cell_type": "code",
   "execution_count": 43,
   "metadata": {},
   "outputs": [
    {
     "name": "stdout",
     "output_type": "stream",
     "text": [
      "['Plan_Shorthand', 'Investment_Fund', 'SSA', 'Job_Covers', 'StateName', 'GovtName', 'ActRptDate', 'DateFYE'] 8\n"
     ]
    }
   ],
   "source": [
    "object_features=df1.select_dtypes(include='object').columns.tolist()\n",
    "print(object_features,len(object_features))"
   ]
  },
  {
   "cell_type": "code",
   "execution_count": 44,
   "metadata": {},
   "outputs": [],
   "source": [
    "df2=pd.get_dummies(df1,columns=object_features, prefix=object_features,drop_first=False, )"
   ]
  },
  {
   "cell_type": "code",
   "execution_count": 53,
   "metadata": {},
   "outputs": [
    {
     "data": {
      "text/plain": [
       "<Figure size 3000x2400 with 0 Axes>"
      ]
     },
     "metadata": {},
     "output_type": "display_data"
    },
    {
     "data": {
      "image/png": "[encoded data removed]",
      "text/plain": [
       "<Figure size 480x480 with 2 Axes>"
      ]
     },
     "metadata": {},
     "output_type": "display_data"
    }
   ],
   "source": [
    "import matplotlib.pyplot as plt\n",
    "\n",
    "# Assuming you have a correlation_matrix computed as described earlier\n",
    "correlation_matrix = df2.corr()\n",
    "\n",
    "plt.figure(figsize=(10, 8), dpi=300)  # Adjust the figure size as needed\n",
    "plt.matshow(correlation_matrix, cmap='coolwarm')\n",
    "plt.title('Correlation Matrix')\n",
    "plt.colorbar()  # Add a colorbar for reference\n",
    "plt.show()"
   ]
  },
  {
   "cell_type": "code",
   "execution_count": 46,
   "metadata": {},
   "outputs": [],
   "source": [
    "m=df2.columns"
   ]
  },
  {
   "cell_type": "code",
   "execution_count": 47,
   "metadata": {},
   "outputs": [
    {
     "name": "stdout",
     "output_type": "stream",
     "text": [
      "<class 'pandas.core.frame.DataFrame'>\n",
      "Index: 4572 entries, 1 to 5681\n",
      "Columns: 900 entries, Month to DateFYE_31-12-2024\n",
      "dtypes: bool(895), float64(4), int64(1)\n",
      "memory usage: 4.1 MB\n"
     ]
    }
   ],
   "source": [
    "df2.info()"
   ]
  },
  {
   "cell_type": "code",
   "execution_count": 48,
   "metadata": {},
   "outputs": [],
   "source": [
    "x = df2.drop('Mem_NC',axis =1)\n",
    "y = df2['Mem_NC']"
   ]
  },
  {
   "cell_type": "code",
   "execution_count": 49,
   "metadata": {},
   "outputs": [],
   "source": [
    "from sklearn.model_selection import train_test_split"
   ]
  },
  {
   "cell_type": "code",
   "execution_count": 50,
   "metadata": {},
   "outputs": [],
   "source": [
    "train_x, test_x, train_y, test_y = train_test_split(x, y, test_size=0.2, random_state=56)"
   ]
  },
  {
   "cell_type": "code",
   "execution_count": 51,
   "metadata": {},
   "outputs": [],
   "source": [
    "from sklearn.metrics import mean_squared_error, mean_absolute_error, r2_score\n",
    "from sklearn.linear_model import LinearRegression\n",
    "linear_reg = LinearRegression()"
   ]
  },
  {
   "cell_type": "code",
   "execution_count": 52,
   "metadata": {},
   "outputs": [
    {
     "name": "stdout",
     "output_type": "stream",
     "text": [
      "Mean Squared Error (MSE): 162888940406281.3\n",
      "Mean Absolute Error (MAE): 1124085.5658147277\n",
      "R-squared (R^2) Score: -1.7967237739277002e+17\n"
     ]
    }
   ],
   "source": [
    "linear_reg.fit(train_x, train_y)\n",
    "train_predict = linear_reg.predict(train_x)\n",
    "test_predict = linear_reg.predict(test_x)\n",
    "mse_test = mean_squared_error(test_y, test_predict)\n",
    "mae_test = mean_absolute_error(test_y, test_predict)\n",
    "r2_test = r2_score(test_y, test_predict)\n",
    "\n",
    "print('Mean Squared Error (MSE):', mse_test)\n",
    "print('Mean Absolute Error (MAE):', mae_test)\n",
    "print('R-squared (R^2) Score:', r2_test)"
   ]
  },
  {
   "cell_type": "code",
   "execution_count": null,
   "metadata": {},
   "outputs": [],
   "source": []
  }
 ],
 "metadata": {
  "language_info": {
   "name": "python"
  },
  "orig_nbformat": 4
 },
 "nbformat": 4,
 "nbformat_minor": 2
}
